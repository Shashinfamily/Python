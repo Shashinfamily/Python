{
 "cells": [
  {
   "cell_type": "code",
   "execution_count": 1,
   "id": "abfe05a5-d03f-457f-88fc-4f051c778c5b",
   "metadata": {},
   "outputs": [
    {
     "name": "stdin",
     "output_type": "stream",
     "text": [
      "Enter the number 30\n"
     ]
    }
   ],
   "source": [
    "num1=int(input(\"Enter the number\"))"
   ]
  },
  {
   "cell_type": "code",
   "execution_count": 2,
   "id": "28afdd3c-3172-40b9-ace7-d0935cc78645",
   "metadata": {},
   "outputs": [
    {
     "name": "stdin",
     "output_type": "stream",
     "text": [
      "Enter the number 30\n"
     ]
    }
   ],
   "source": [
    "num2=int(input(\"Enter the number\"))"
   ]
  },
  {
   "cell_type": "code",
   "execution_count": 5,
   "id": "07589246-800f-42a5-a372-470806fa16e2",
   "metadata": {},
   "outputs": [
    {
     "name": "stdout",
     "output_type": "stream",
     "text": [
      "900\n"
     ]
    }
   ],
   "source": [
    "mul=num1*num2\n",
    "print(mul)"
   ]
  },
  {
   "cell_type": "code",
   "execution_count": 7,
   "id": "6a7f9ffe-1702-4c05-bd22-21407ef39b61",
   "metadata": {},
   "outputs": [
    {
     "name": "stdin",
     "output_type": "stream",
     "text": [
      "enter the age 30\n"
     ]
    }
   ],
   "source": [
    "age=int(input(\"enter the age\"))"
   ]
  },
  {
   "cell_type": "code",
   "execution_count": 8,
   "id": "598b65d2-721f-4523-a644-303d728cc8b8",
   "metadata": {},
   "outputs": [
    {
     "name": "stdout",
     "output_type": "stream",
     "text": [
      "senior\n"
     ]
    }
   ],
   "source": [
    "if(age==18):\n",
    "    print(\"Adult\")\n",
    "else:\n",
    "    print(\"senior\")"
   ]
  },
  {
   "cell_type": "code",
   "execution_count": 16,
   "id": "f4f57cf3-03d1-4e29-941a-b6d4b5c0e5ff",
   "metadata": {},
   "outputs": [
    {
     "name": "stdin",
     "output_type": "stream",
     "text": [
      "enter the age 31\n"
     ]
    }
   ],
   "source": [
    "revised_age=int(input(\"enter the age\"))"
   ]
  },
  {
   "cell_type": "code",
   "execution_count": 17,
   "id": "3a86a252-f939-42ce-b5b1-954543e01600",
   "metadata": {},
   "outputs": [
    {
     "name": "stdout",
     "output_type": "stream",
     "text": [
      "senior adult\n"
     ]
    }
   ],
   "source": [
    "if(revised_age<18):\n",
    "    print(\"child\")\n",
    "elif(revised_age<=25):\n",
    "    print(\"adult\")\n",
    "elif(revised_age<=33):\n",
    "    print(\"senior adult\")\n",
    "else:\n",
    "    print(\"matured\")"
   ]
  },
  {
   "cell_type": "code",
   "execution_count": 27,
   "id": "0e9ecc80-9f5c-494a-ad61-af481db136b4",
   "metadata": {},
   "outputs": [
    {
     "name": "stdin",
     "output_type": "stream",
     "text": [
      "enter the age 90\n"
     ]
    }
   ],
   "source": [
    "revised_age1=int(input(\"enter the age\"))"
   ]
  },
  {
   "cell_type": "code",
   "execution_count": null,
   "id": "91c826d8-15bc-4709-a75c-41127d76611d",
   "metadata": {},
   "outputs": [],
   "source": [
    "if(revised_age1<18):\n",
    "    print(\"children\")\n",
    "elif(revised_age1<=35):\n",
    "    print(\"no\")\n",
    "elif(revised_age1<=59):\n",
    "    print(\"senior adult\")\n",
    "else:\n",
    "    print(\"matured\")"
   ]
  },
  {
   "cell_type": "markdown",
   "id": "82b6ede2-fa73-47d5-9b89-791cb9f2dab0",
   "metadata": {},
   "source": [
    "yhgvuvjvgj"
   ]
  },
  {
   "cell_type": "code",
   "execution_count": null,
   "id": "2a177b9b-f45b-4615-8b57-fba289d172c5",
   "metadata": {},
   "outputs": [],
   "source": [
    "#for loop"
   ]
  },
  {
   "cell_type": "code",
   "execution_count": 1,
   "id": "aea88f46-882d-4817-862b-d53133fa3cb1",
   "metadata": {},
   "outputs": [],
   "source": [
    "age_list=[23,17,55,70,89]"
   ]
  },
  {
   "cell_type": "code",
   "execution_count": 13,
   "id": "d71226b5-42a7-4511-9c49-34bd2111aed7",
   "metadata": {},
   "outputs": [
    {
     "name": "stdout",
     "output_type": "stream",
     "text": [
      "no\n",
      "children\n",
      "senior adult\n",
      "matured\n",
      "matured\n"
     ]
    }
   ],
   "source": [
    "for revised_age1 in age_list:\n",
    "  if(revised_age1<18):\n",
    "          print(\"children\")\n",
    "  elif(revised_age1<=35):\n",
    "         print(\"no\")\n",
    "  elif(revised_age1<=59):\n",
    "         print(\"senior adult\")\n",
    "  else:\n",
    "      print(\"matured\")\n"
   ]
  },
  {
   "cell_type": "markdown",
   "id": "c323f9e8-b228-4d48-bae9-c1eb49fac780",
   "metadata": {},
   "source": [
    "#odd or even\n"
   ]
  },
  {
   "cell_type": "code",
   "execution_count": 22,
   "id": "ca5bb9aa-76ce-4ea2-a6f3-33feb0988775",
   "metadata": {},
   "outputs": [
    {
     "name": "stdin",
     "output_type": "stream",
     "text": [
      "enter the number 45\n"
     ]
    }
   ],
   "source": [
    "ODD_or_even_input=int(input(\"enter the number\"))\n"
   ]
  },
  {
   "cell_type": "code",
   "execution_count": 23,
   "id": "38d5e93f-f8e8-484e-b5b1-1f4c1d24cdb0",
   "metadata": {},
   "outputs": [
    {
     "name": "stdout",
     "output_type": "stream",
     "text": [
      "The number is odd\n"
     ]
    }
   ],
   "source": [
    "if((ODD_or_even_input%2)==0):\n",
    "    print(\"The number is even\")\n",
    "else:\n",
    "    print(\"The number is odd\")"
   ]
  },
  {
   "cell_type": "code",
   "execution_count": 24,
   "id": "a897095c-3a64-4412-acf2-699da93986a7",
   "metadata": {},
   "outputs": [],
   "source": [
    "#range"
   ]
  },
  {
   "cell_type": "raw",
   "id": "e8227690-4a0f-46e9-a420-ccda917127b4",
   "metadata": {},
   "source": [
    "for num in range(0,10):\n",
    "    print(num)\n"
   ]
  },
  {
   "cell_type": "code",
   "execution_count": 26,
   "id": "4901e8eb-a2ad-4cbf-98ec-167d40ecd2ea",
   "metadata": {},
   "outputs": [
    {
     "name": "stdout",
     "output_type": "stream",
     "text": [
      "0\n",
      "3\n",
      "6\n",
      "9\n"
     ]
    }
   ],
   "source": [
    "for num in range(0,10,3):\n",
    "    print(num)\n"
   ]
  },
  {
   "cell_type": "code",
   "execution_count": 1,
   "id": "9b114bb4-375f-4da6-bcee-da82adf5de7b",
   "metadata": {},
   "outputs": [
    {
     "name": "stdout",
     "output_type": "stream",
     "text": [
      "Welcome to assignment -1\n"
     ]
    }
   ],
   "source": [
    "print(\"Welcome to assignment -1\")"
   ]
  },
  {
   "cell_type": "code",
   "execution_count": 5,
   "id": "15220e8b-a68d-4493-98b0-e98f78344b54",
   "metadata": {},
   "outputs": [
    {
     "name": "stdin",
     "output_type": "stream",
     "text": [
      "Num1=  10\n",
      "Num2=  30\n"
     ]
    },
    {
     "name": "stdout",
     "output_type": "stream",
     "text": [
      "Add =  40\n"
     ]
    }
   ],
   "source": [
    "Num1=int(input(\"Num1= \"))\n",
    "Num2=int(input(\"Num2= \"))\n",
    "Add=Num1+Num2\n",
    "print(\"Add = \",Add)"
   ]
  },
  {
   "cell_type": "markdown",
   "id": "22b9d4a7-2deb-4f5f-b366-a9af6e505cf2",
   "metadata": {},
   "source": [
    "# Body mass index\n"
   ]
  },
  {
   "cell_type": "code",
   "execution_count": 9,
   "id": "9a24b28b-e793-4981-b996-306e76ac0f03",
   "metadata": {},
   "outputs": [
    {
     "name": "stdin",
     "output_type": "stream",
     "text": [
      "Enter the BMI = 34\n"
     ]
    },
    {
     "name": "stdout",
     "output_type": "stream",
     "text": [
      "very Over weight\n"
     ]
    }
   ],
   "source": [
    "BMI=int(input(\"Enter the BMI =\"))\n",
    "if(BMI<=18.5):\n",
    "    print(\"under weight\")\n",
    "elif(BMI<=24.9):\n",
    "    print(\"Normal\")\n",
    "elif(BMI<=29.9):\n",
    "    print(\"Preobese\")\n",
    "else:\n",
    "    print(\"very Over weight\")\n",
    "\n"
   ]
  },
  {
   "cell_type": "code",
   "execution_count": 10,
   "id": "8f88d4b4-ee08-4870-a620-68a743ae34e0",
   "metadata": {},
   "outputs": [
    {
     "name": "stdout",
     "output_type": "stream",
     "text": [
      "Hope Ai\n"
     ]
    }
   ],
   "source": [
    "print(\"Hope Ai\")"
   ]
  },
  {
   "cell_type": "code",
   "execution_count": 14,
   "id": "45e39d9c-fc06-4821-8538-375f19f21381",
   "metadata": {},
   "outputs": [
    {
     "name": "stdin",
     "output_type": "stream",
     "text": [
      "Enter your institute Name? - Hope Ai\n",
      "Enter your Name? - Raj\n",
      "Enter your Age? - 15\n",
      "Enter your school Name? - Guru school\n",
      "Enter your Degree? - B.e CSE\n"
     ]
    }
   ],
   "source": [
    "#buy input\n",
    "Ins_Name=input(\"Enter your institute Name? -\")\n",
    "Name=input(\"Enter your Name? -\")\n",
    "Age=input(\"Enter your Age? -\")\n",
    "school_Name=input(\"Enter your school Name? -\")\n",
    "Degree=input(\"Enter your Degree? -\")"
   ]
  },
  {
   "cell_type": "markdown",
   "id": "403e12e3-54cb-4f19-a4d8-9d5e72bdd7c5",
   "metadata": {},
   "source": [
    "#division"
   ]
  },
  {
   "cell_type": "code",
   "execution_count": 17,
   "id": "ee34542b-18c9-4cc4-9efe-a27018572f4a",
   "metadata": {},
   "outputs": [
    {
     "name": "stdin",
     "output_type": "stream",
     "text": [
      "a= 76\n",
      "b= 31\n"
     ]
    },
    {
     "name": "stdout",
     "output_type": "stream",
     "text": [
      "Float division = 2.4516129032258065\n"
     ]
    }
   ],
   "source": [
    "a=int(input(\"a=\"))\n",
    "b=int(input(\"b=\"))\n",
    "Float_division=a/b\n",
    "print(\"Float division =\",Float_division)\n",
    "\n"
   ]
  },
  {
   "cell_type": "code",
   "execution_count": 19,
   "id": "aeb4d70a-7727-47cc-b958-7c61c71ddc4a",
   "metadata": {},
   "outputs": [
    {
     "name": "stdin",
     "output_type": "stream",
     "text": [
      "a= 76\n",
      "b= 31\n"
     ]
    },
    {
     "name": "stdout",
     "output_type": "stream",
     "text": [
      "Floor division = 2\n"
     ]
    }
   ],
   "source": [
    "a=int(input(\"a=\"))\n",
    "b=int(input(\"b=\"))\n",
    "Floor_division=a//b\n",
    "print(\"Floor division =\",Floor_division)"
   ]
  },
  {
   "cell_type": "code",
   "execution_count": null,
   "id": "5b3a8bcd-902a-4a30-9fda-212e222b2c4b",
   "metadata": {},
   "outputs": [],
   "source": []
  }
 ],
 "metadata": {
  "kernelspec": {
   "display_name": "Python 3 (ipykernel)",
   "language": "python",
   "name": "python3"
  },
  "language_info": {
   "codemirror_mode": {
    "name": "ipython",
    "version": 3
   },
   "file_extension": ".py",
   "mimetype": "text/x-python",
   "name": "python",
   "nbconvert_exporter": "python",
   "pygments_lexer": "ipython3",
   "version": "3.11.7"
  }
 },
 "nbformat": 4,
 "nbformat_minor": 5
}
