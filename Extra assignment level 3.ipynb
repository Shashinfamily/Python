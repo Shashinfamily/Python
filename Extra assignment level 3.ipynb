{
 "cells": [
  {
   "cell_type": "code",
   "execution_count": 4,
   "id": "a728a7fa-4aaf-4056-8d63-8273843801dd",
   "metadata": {},
   "outputs": [
    {
     "name": "stdin",
     "output_type": "stream",
     "text": [
      "value 10\n"
     ]
    },
    {
     "name": "stdout",
     "output_type": "stream",
     "text": [
      "Correct\n"
     ]
    }
   ],
   "source": [
    "#print \"correct\" if i==10\n",
    "i=int(input(\"value\"))\n",
    "if(i==10):\n",
    "    print(\"Correct\")\n",
    "else:\n",
    "    print(\"incorrect\")\n",
    "\n",
    " \n",
    "    \n"
   ]
  },
  {
   "cell_type": "code",
   "execution_count": 7,
   "id": "ee40f9f8-9006-48d8-b7d2-386cd13bba7a",
   "metadata": {},
   "outputs": [
    {
     "name": "stdin",
     "output_type": "stream",
     "text": [
      "enter the password HOPE@123\n"
     ]
    },
    {
     "name": "stdout",
     "output_type": "stream",
     "text": [
      "your password is correct\n"
     ]
    }
   ],
   "source": [
    "#check the password using if and else\n",
    "password=input(\"enter the password\")\n",
    "if(password==\"HOPE@123\"):\n",
    "    print(\"your password is correct\")\n",
    "else:\n",
    "    print(\"Your password is wrong\")\n"
   ]
  },
  {
   "cell_type": "code",
   "execution_count": 9,
   "id": "7f8da36a-57d9-49be-be98-cb8cff681939",
   "metadata": {},
   "outputs": [
    {
     "name": "stdin",
     "output_type": "stream",
     "text": [
      "enter your age 20\n"
     ]
    },
    {
     "name": "stdout",
     "output_type": "stream",
     "text": [
      "Adult\n"
     ]
    }
   ],
   "source": [
    "#Category the people by their age like children,adult,senior citizen...\n",
    "Age=int(input(\"enter your age\"))\n",
    "if(Age<=12):\n",
    "    print(\"child\")\n",
    "elif(Age<=25):\n",
    "    print(\"Adult\")\n",
    "else:\n",
    "    print(\"matured\")"
   ]
  },
  {
   "cell_type": "code",
   "execution_count": 10,
   "id": "4c761be6-eaf7-41ee-8b28-87cf60c469aa",
   "metadata": {},
   "outputs": [
    {
     "name": "stdin",
     "output_type": "stream",
     "text": [
      "enter the number 1\n"
     ]
    },
    {
     "name": "stdout",
     "output_type": "stream",
     "text": [
      "the number is positive\n"
     ]
    }
   ],
   "source": [
    "#find the given the number is postive or -\n",
    "number=int(input(\"enter the number\"))\n",
    "if(number>=0):\n",
    "    print(\"the number is positive\")\n",
    "else:\n",
    "    print(\"the number is negative\")\n"
   ]
  },
  {
   "cell_type": "code",
   "execution_count": 11,
   "id": "a61d2f95-796e-47fd-91e6-108fc2b1583b",
   "metadata": {},
   "outputs": [
    {
     "name": "stdin",
     "output_type": "stream",
     "text": [
      "enter a number to check 22\n"
     ]
    },
    {
     "name": "stdout",
     "output_type": "stream",
     "text": [
      "the number is not divisible by 5\n"
     ]
    }
   ],
   "source": [
    "#check wheather the given number is divisible by number 5\n",
    "No_to_check=int(input(\"enter a number to check\"))\n",
    "division=5\n",
    "mod=No_to_check%division\n",
    "if(mod==0):\n",
    "    print(\"the number is divisible by 5\")\n",
    "else:\n",
    "    print(\"the number is not divisible by 5\")"
   ]
  },
  {
   "cell_type": "code",
   "execution_count": null,
   "id": "e2619649-3339-4fda-9d14-52692ca6eff8",
   "metadata": {},
   "outputs": [],
   "source": []
  }
 ],
 "metadata": {
  "kernelspec": {
   "display_name": "Python 3 (ipykernel)",
   "language": "python",
   "name": "python3"
  },
  "language_info": {
   "codemirror_mode": {
    "name": "ipython",
    "version": 3
   },
   "file_extension": ".py",
   "mimetype": "text/x-python",
   "name": "python",
   "nbconvert_exporter": "python",
   "pygments_lexer": "ipython3",
   "version": "3.11.7"
  }
 },
 "nbformat": 4,
 "nbformat_minor": 5
}
