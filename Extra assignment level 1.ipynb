{
 "cells": [
  {
   "cell_type": "markdown",
   "id": "2b69467d-ba7a-49e0-be2e-9a42927cba86",
   "metadata": {},
   "source": [
    "#print statement"
   ]
  },
  {
   "cell_type": "code",
   "execution_count": 1,
   "id": "214b64ea-9a0e-4b66-a057-b50a8ee5db59",
   "metadata": {},
   "outputs": [
    {
     "name": "stdout",
     "output_type": "stream",
     "text": [
      "Hope Ai\n"
     ]
    }
   ],
   "source": [
    "print(\"Hope Ai\")"
   ]
  },
  {
   "cell_type": "code",
   "execution_count": 2,
   "id": "db25e244-f6e2-4b04-a2d5-d3e8a0cd60ec",
   "metadata": {},
   "outputs": [
    {
     "name": "stdin",
     "output_type": "stream",
     "text": [
      "Enter your institute Name? - Hope AI\n"
     ]
    }
   ],
   "source": [
    "#buy input\n",
    "Ins_Name=input(\"Enter your institute Name? -\")\n"
   ]
  },
  {
   "cell_type": "code",
   "execution_count": 3,
   "id": "d944dfb4-5534-479d-b6a3-0cb3a6b6a73e",
   "metadata": {},
   "outputs": [
    {
     "name": "stdin",
     "output_type": "stream",
     "text": [
      "Enter your Name? -  Raj\n",
      "Enter your Age? - 15\n",
      "Enter your school Name? - Guru school\n",
      "Enter your Degree? - B.E CSE\n"
     ]
    }
   ],
   "source": [
    "#buy input\n",
    "Name=input(\"Enter your Name? -\")\n",
    "Age=input(\"Enter your Age? -\")\n",
    "school_Name=input(\"Enter your school Name? -\")\n",
    "Degree=input(\"Enter your Degree? -\")"
   ]
  },
  {
   "cell_type": "code",
   "execution_count": 4,
   "id": "023df5e2-4e05-487c-87b0-7fc5654977f5",
   "metadata": {},
   "outputs": [
    {
     "name": "stdin",
     "output_type": "stream",
     "text": [
      "a= 43\n",
      "b= 34\n"
     ]
    },
    {
     "name": "stdout",
     "output_type": "stream",
     "text": [
      "Add = 77\n"
     ]
    }
   ],
   "source": [
    "#addition\n",
    "a=int(input(\"a=\"))\n",
    "b=int(input(\"b=\"))\n",
    "Addition=a+b\n",
    "print(\"Add =\",Addition)"
   ]
  },
  {
   "cell_type": "code",
   "execution_count": 5,
   "id": "cfa5ccb6-4aee-4d86-ae91-f1b6fc7295e6",
   "metadata": {},
   "outputs": [
    {
     "name": "stdin",
     "output_type": "stream",
     "text": [
      "a= 43\n",
      "b= 34\n"
     ]
    },
    {
     "name": "stdout",
     "output_type": "stream",
     "text": [
      "Sub = 9\n"
     ]
    }
   ],
   "source": [
    "#addition\n",
    "a=int(input(\"a=\"))\n",
    "b=int(input(\"b=\"))\n",
    "Subraction=a-b\n",
    "print(\"Sub =\",Subraction)"
   ]
  },
  {
   "cell_type": "code",
   "execution_count": 6,
   "id": "7d3b2d2b-5cce-4351-a4eb-8e977c0104fb",
   "metadata": {},
   "outputs": [
    {
     "name": "stdin",
     "output_type": "stream",
     "text": [
      "a= 63\n",
      "b= 97\n"
     ]
    },
    {
     "name": "stdout",
     "output_type": "stream",
     "text": [
      "Mul = 6111\n"
     ]
    }
   ],
   "source": [
    "#Multiplication\n",
    "a=int(input(\"a=\"))\n",
    "b=int(input(\"b=\"))\n",
    "Multi=a*b\n",
    "print(\"Mul =\",Multi)"
   ]
  },
  {
   "cell_type": "code",
   "execution_count": 7,
   "id": "b9af03f5-6de4-4a5e-97de-6905f20ca95f",
   "metadata": {},
   "outputs": [
    {
     "name": "stdin",
     "output_type": "stream",
     "text": [
      "a= 76\n",
      "b= 31\n"
     ]
    },
    {
     "name": "stdout",
     "output_type": "stream",
     "text": [
      "Float division = 2.4516129032258065\n"
     ]
    }
   ],
   "source": [
    "#division\n",
    "a=int(input(\"a=\"))\n",
    "b=int(input(\"b=\"))\n",
    "Float_division=a/b\n",
    "print(\"Float division =\",Float_division)"
   ]
  },
  {
   "cell_type": "code",
   "execution_count": 10,
   "id": "6e9e3139-2d59-4fd1-a8e2-a992adf80055",
   "metadata": {},
   "outputs": [
    {
     "name": "stdin",
     "output_type": "stream",
     "text": [
      "a= 76\n",
      "b= 31\n"
     ]
    },
    {
     "name": "stdout",
     "output_type": "stream",
     "text": [
      "Floor division = 2\n"
     ]
    }
   ],
   "source": [
    "# Floor division\n",
    "a=int(input(\"a=\"))\n",
    "b=int(input(\"b=\"))\n",
    "Floor_division=a//b\n",
    "print(\"Floor division =\",Floor_division)"
   ]
  },
  {
   "cell_type": "code",
   "execution_count": 11,
   "id": "7e1662a8-a1a7-4a1d-84fa-fc41aaf6736c",
   "metadata": {},
   "outputs": [
    {
     "name": "stdin",
     "output_type": "stream",
     "text": [
      "a= 76\n",
      "b= 31\n"
     ]
    },
    {
     "name": "stdout",
     "output_type": "stream",
     "text": [
      "modulo = 14\n"
     ]
    }
   ],
   "source": [
    "#modulo\n",
    "a=int(input(\"a=\"))\n",
    "b=int(input(\"b=\"))\n",
    "modulo=a%b\n",
    "print(\"modulo =\",modulo)"
   ]
  },
  {
   "cell_type": "code",
   "execution_count": 12,
   "id": "7854ed25-55f9-4429-9370-4234e2ba6cc4",
   "metadata": {},
   "outputs": [
    {
     "name": "stdin",
     "output_type": "stream",
     "text": [
      "a= 4\n",
      "b= 4\n"
     ]
    },
    {
     "name": "stdout",
     "output_type": "stream",
     "text": [
      "power = 256\n"
     ]
    }
   ],
   "source": [
    "#power\n",
    "a=int(input(\"a=\"))\n",
    "b=int(input(\"b=\"))\n",
    "power=a**b\n",
    "print(\"power =\",power)\n"
   ]
  },
  {
   "cell_type": "code",
   "execution_count": null,
   "id": "1ab6ae76-570b-4c47-88a3-913309f6648b",
   "metadata": {},
   "outputs": [],
   "source": []
  }
 ],
 "metadata": {
  "kernelspec": {
   "display_name": "Python 3 (ipykernel)",
   "language": "python",
   "name": "python3"
  },
  "language_info": {
   "codemirror_mode": {
    "name": "ipython",
    "version": 3
   },
   "file_extension": ".py",
   "mimetype": "text/x-python",
   "name": "python",
   "nbconvert_exporter": "python",
   "pygments_lexer": "ipython3",
   "version": "3.11.7"
  }
 },
 "nbformat": 4,
 "nbformat_minor": 5
}
