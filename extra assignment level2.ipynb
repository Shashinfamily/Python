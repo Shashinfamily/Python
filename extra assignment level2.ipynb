{
 "cells": [
  {
   "cell_type": "code",
   "execution_count": 1,
   "id": "5d879356-852e-4e3e-bd70-b42324a8bb06",
   "metadata": {},
   "outputs": [
    {
     "name": "stdout",
     "output_type": "stream",
     "text": [
      "0\n",
      "1\n",
      "2\n",
      "3\n",
      "4\n",
      "5\n",
      "6\n",
      "7\n",
      "8\n",
      "9\n",
      "10\n",
      "11\n",
      "12\n",
      "13\n",
      "14\n",
      "15\n",
      "16\n",
      "17\n",
      "18\n",
      "19\n",
      "20\n"
     ]
    }
   ],
   "source": [
    "#print 0 to 20 by using range\n",
    "for num in range(0,21):\n",
    "    print(num)"
   ]
  },
  {
   "cell_type": "code",
   "execution_count": 2,
   "id": "f0696aef-6fef-44f7-bab4-8461c2948e14",
   "metadata": {},
   "outputs": [
    {
     "name": "stdout",
     "output_type": "stream",
     "text": [
      "10 11 12 13 14 15 16 17 18 19 "
     ]
    }
   ],
   "source": [
    "#print 10 to 20 by using range\n",
    "for num in range(10,20):\n",
    "    print(num,end=' ')"
   ]
  },
  {
   "cell_type": "code",
   "execution_count": 3,
   "id": "ff5a07ae-eef8-496a-9df3-52633c30118d",
   "metadata": {},
   "outputs": [
    {
     "name": "stdout",
     "output_type": "stream",
     "text": [
      "6\n"
     ]
    }
   ],
   "source": [
    "# print number of items using len.\n",
    "lis = [2,1,3,5,4,7]\n",
    "print(len(lis))\n"
   ]
  },
  {
   "cell_type": "code",
   "execution_count": 7,
   "id": "9e6ecca7-bb29-4e23-845c-5b2b2848c167",
   "metadata": {},
   "outputs": [
    {
     "name": "stdout",
     "output_type": "stream",
     "text": [
      "artifical intelligence\n",
      "a\n",
      "r\n",
      "t\n",
      "i\n",
      "f\n",
      "i\n",
      "c\n",
      "a\n",
      "l\n",
      " \n",
      "i\n",
      "n\n",
      "t\n",
      "e\n",
      "l\n",
      "l\n",
      "i\n",
      "g\n",
      "e\n",
      "n\n",
      "c\n",
      "e\n"
     ]
    }
   ],
   "source": [
    "#print artifical intelligence\n",
    "print(\"artifical intelligence\")\n",
    "a=\"artifical intelligence\"\n",
    "for b in a:\n",
    " print(b)\n"
   ]
  },
  {
   "cell_type": "code",
   "execution_count": 4,
   "id": "56580441-fcc2-4506-a747-18e1c8ba869f",
   "metadata": {},
   "outputs": [
    {
     "name": "stdout",
     "output_type": "stream",
     "text": [
      "-your name -\n",
      "-your age -\n",
      "-your profession -\n"
     ]
    }
   ],
   "source": [
    "list=(\"-your name -\",\"-your age -\",\"-your profession -\")\n",
    "for b in list:\n",
    "    print(b)\n",
    "    \n"
   ]
  },
  {
   "cell_type": "code",
   "execution_count": 11,
   "id": "46e0578c-3951-48ad-957f-2a994d207fde",
   "metadata": {},
   "outputs": [
    {
     "name": "stdout",
     "output_type": "stream",
     "text": [
      "(1, 'welcome', 2, 'Hope')\n"
     ]
    }
   ],
   "source": [
    "#print this mixed data type using tuples - (1,'welcome',2,'Hope')\n",
    "strng_int=(1,'welcome',2,'Hope')\n",
    "print(strng_int)\n"
   ]
  },
  {
   "cell_type": "code",
   "execution_count": 13,
   "id": "060ff1eb-9c51-4af5-a507-ae0cf349d505",
   "metadata": {},
   "outputs": [
    {
     "name": "stdout",
     "output_type": "stream",
     "text": [
      "((0, 1, 2, 3), ('python', 'hope'))\n"
     ]
    }
   ],
   "source": [
    "#print this mixed data type using tuples - ((0,1,2,3)),(('python','hope'))\n",
    "strng_int=((0,1,2,3)),(('python','hope'))\n",
    "print(strng_int)"
   ]
  },
  {
   "cell_type": "code",
   "execution_count": 3,
   "id": "a4a7e67b-5b68-4316-b1c2-fde17f52549d",
   "metadata": {},
   "outputs": [
    {
     "name": "stdout",
     "output_type": "stream",
     "text": [
      "20 is even\n",
      "10 is even\n",
      "16 is even\n",
      "276 is even\n",
      "188 is even\n"
     ]
    }
   ],
   "source": [
    "#print odd numbers in the list (20,10,16,19,25,1,276,188)\n",
    "ODD_even_list=[20,10,16,19,25,1,276,188]\n",
    "for temp in ODD_even_list:\n",
    "    if(temp%2==0):\n",
    "         print(temp,\"is even\")"
   ]
  },
  {
   "cell_type": "code",
   "execution_count": 2,
   "id": "e5515ebb-746e-4661-b6d2-4a2cc4d5015e",
   "metadata": {},
   "outputs": [
    {
     "name": "stdout",
     "output_type": "stream",
     "text": [
      "19 is ODD\n",
      "25 is ODD\n",
      "1 is ODD\n"
     ]
    }
   ],
   "source": [
    "#print odd numbers in the list (20,10,16,19,25,1,276,188)\n",
    "ODD_even_list=[20,10,16,19,25,1,276,188]\n",
    "for temp in ODD_even_list:\n",
    "    if(temp%2==1):\n",
    "         print(temp,\"is ODD\")"
   ]
  },
  {
   "cell_type": "code",
   "execution_count": null,
   "id": "2101e311-665e-4ea7-bd63-7a11117dea23",
   "metadata": {},
   "outputs": [],
   "source": []
  }
 ],
 "metadata": {
  "kernelspec": {
   "display_name": "Python 3 (ipykernel)",
   "language": "python",
   "name": "python3"
  },
  "language_info": {
   "codemirror_mode": {
    "name": "ipython",
    "version": 3
   },
   "file_extension": ".py",
   "mimetype": "text/x-python",
   "name": "python",
   "nbconvert_exporter": "python",
   "pygments_lexer": "ipython3",
   "version": "3.11.7"
  }
 },
 "nbformat": 4,
 "nbformat_minor": 5
}
