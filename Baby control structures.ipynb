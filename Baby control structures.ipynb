{
 "cells": [
  {
   "cell_type": "code",
   "execution_count": 1,
   "id": "04fa1fd6-723d-44b7-942f-44a7bf04865f",
   "metadata": {},
   "outputs": [
    {
     "name": "stdout",
     "output_type": "stream",
     "text": [
      "Welcome to assignment -1\n"
     ]
    }
   ],
   "source": [
    "print(\"Welcome to assignment -1\")"
   ]
  },
  {
   "cell_type": "code",
   "execution_count": 2,
   "id": "14479d1d-048c-49f2-bc49-9d955960ecd8",
   "metadata": {},
   "outputs": [
    {
     "name": "stdin",
     "output_type": "stream",
     "text": [
      "Num1=  10\n",
      "Num2=  30\n"
     ]
    },
    {
     "name": "stdout",
     "output_type": "stream",
     "text": [
      "Add =  40\n"
     ]
    }
   ],
   "source": [
    "Num1=int(input(\"Num1= \"))\n",
    "Num2=int(input(\"Num2= \"))\n",
    "Add=Num1+Num2\n",
    "print(\"Add = \",Add)"
   ]
  },
  {
   "cell_type": "markdown",
   "id": "9533dee4-0086-4abf-a9a5-32faa62e6837",
   "metadata": {},
   "source": [
    "# Body mass index\n"
   ]
  },
  {
   "cell_type": "code",
   "execution_count": 4,
   "id": "48efbb12-67b4-4fcf-ae33-705c6ec94cf7",
   "metadata": {},
   "outputs": [
    {
     "name": "stdin",
     "output_type": "stream",
     "text": [
      "Enter the BMI = 34\n"
     ]
    },
    {
     "name": "stdout",
     "output_type": "stream",
     "text": [
      "very Over weight\n"
     ]
    }
   ],
   "source": [
    "BMI=int(input(\"Enter the BMI =\"))\n",
    "if(BMI<=18.5):\n",
    "    print(\"under weight\")\n",
    "elif(BMI<=24.9):\n",
    "    print(\"Normal\")\n",
    "elif(BMI<=29.9):\n",
    "    print(\"Preobese\")\n",
    "else:\n",
    "    print(\"very Over weight\")\n",
    "\n"
   ]
  },
  {
   "cell_type": "code",
   "execution_count": null,
   "id": "674b221c-85e0-47f3-aa69-23f817522a59",
   "metadata": {},
   "outputs": [],
   "source": []
  }
 ],
 "metadata": {
  "kernelspec": {
   "display_name": "Python 3 (ipykernel)",
   "language": "python",
   "name": "python3"
  },
  "language_info": {
   "codemirror_mode": {
    "name": "ipython",
    "version": 3
   },
   "file_extension": ".py",
   "mimetype": "text/x-python",
   "name": "python",
   "nbconvert_exporter": "python",
   "pygments_lexer": "ipython3",
   "version": "3.11.7"
  }
 },
 "nbformat": 4,
 "nbformat_minor": 5
}
